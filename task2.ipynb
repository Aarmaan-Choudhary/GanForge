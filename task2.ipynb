{
 "cells": [
  {
   "cell_type": "code",
   "execution_count": null,
   "metadata": {},
   "outputs": [],
   "source": [
    "import os\n",
    "import torch\n",
    "from torchvision import models,transforms\n",
    "from PIL import Image\n",
    "import torch.nn as nn\n",
    "\n",
    "images_folder=os.path.join(os.getcwd(),'PetImages','Dog')\n",
    "    \n",
    "images=os.listdir(images_folder)\n",
    "\n",
    "weights=models.ResNet18_Weights.IMAGENET1K_V1\n",
    "model=models.resnet18(weights=weights)\n",
    "\n",
    "model.fc=nn.Linear(model.fc.in_features,1000)\n",
    "\n",
    "print(model)\n",
    "model.eval()\n",
    "\n",
    "transform=transforms.Compose([\n",
    "    transforms.Resize((224,224)),\n",
    "    transforms.ToTensor(),\n",
    "])\n",
    "\n",
    "for i in range(len(images)):\n",
    "    image=Image.open(os.path.join(images_folder,images[i]))\n",
    "    input_tensor=transform(image).unsqueeze(0)\n",
    "\n",
    "    if input_tensor.size()[1]==3:\n",
    "        output_tensor=model(input_tensor)\n",
    "\n",
    "        print(f'{images[i]} predicted as {weights.meta[\"categories\"][torch.argmax(output_tensor)]}')\n"
   ]
  }
 ],
 "metadata": {
  "kernelspec": {
   "display_name": "Python 3",
   "language": "python",
   "name": "python3"
  },
  "language_info": {
   "codemirror_mode": {
    "name": "ipython",
    "version": 3
   },
   "file_extension": ".py",
   "mimetype": "text/x-python",
   "name": "python",
   "nbconvert_exporter": "python",
   "pygments_lexer": "ipython3",
   "version": "3.13.4"
  }
 },
 "nbformat": 4,
 "nbformat_minor": 2
}
